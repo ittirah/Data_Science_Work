{
 "cells": [
  {
   "cell_type": "code",
   "execution_count": 1,
   "metadata": {},
   "outputs": [],
   "source": [
    "import pyperclip"
   ]
  },
  {
   "cell_type": "code",
   "execution_count": 4,
   "metadata": {},
   "outputs": [],
   "source": [
    "import re"
   ]
  },
  {
   "cell_type": "code",
   "execution_count": 5,
   "metadata": {},
   "outputs": [],
   "source": [
    "#Create a regualar expression to match phone numbers \n",
    "phoneregex = re.compile(r'''(\n",
    "(\\d{3}|\\(\\d{3}\\))?     #area code\n",
    "(\\s|-|\\.)?             #separtor\n",
    "(\\d{3})                #first 3 digits\n",
    "(\\s|-|\\.)              #separator\n",
    "(\\d{4})                #last 4 digits\n",
    "(\\s*(ext|x|ext.)\\s*(\\d{2,5}))?  #extension\n",
    ")\n",
    "\n",
    "''',re.VERBOSE)"
   ]
  },
  {
   "cell_type": "code",
   "execution_count": 6,
   "metadata": {},
   "outputs": [],
   "source": [
    "#Create a regualar expression to match the phone numbers "
   ]
  },
  {
   "cell_type": "code",
   "execution_count": 7,
   "metadata": {},
   "outputs": [],
   "source": [
    "emailregex = re.compile(r'''(\n",
    "[a-zA-Z0-9._%+-]+       #username\n",
    "@                       #@ symbol\n",
    "[a-zA-Z0-9.-]+          #domain name\n",
    "(\\.[a-zA-Z]{2,4})       #Top level domain (.com/.io etc)\n",
    ")''', re.VERBOSE)       #re.VERBOSE allows us to write regular expressions in multiple lines and include comment as well "
   ]
  },
  {
   "cell_type": "code",
   "execution_count": 14,
   "metadata": {},
   "outputs": [],
   "source": [
    "#Finds the phone numbers and email addresses on the clipboard"
   ]
  },
  {
   "cell_type": "code",
   "execution_count": 36,
   "metadata": {},
   "outputs": [],
   "source": [
    "txt = str(pyperclip.paste())\n",
    "matches = []\n"
   ]
  },
  {
   "cell_type": "code",
   "execution_count": 37,
   "metadata": {},
   "outputs": [],
   "source": [
    "#The regular expression may find matches for phone numbers in different format, we need to have it in a standard format\n",
    "for groups in phoneregex.findall(txt):\n",
    "    phonenum = '-'.join([groups[1],groups[3],groups[5]])\n",
    "    if groups[8]!='':\n",
    "        phonenum = phonenum + ' x' + groups[8]\n",
    "    matches.append(phonenum)\n",
    "for groups in emailregex.findall(txt):\n",
    "        matches.append(groups[0])\n",
    "        "
   ]
  },
  {
   "cell_type": "code",
   "execution_count": 38,
   "metadata": {},
   "outputs": [
    {
     "name": "stdout",
     "output_type": "stream",
     "text": [
      "845-359-2900\n",
      "914-591-8100\n",
      "212-854-1754\n",
      "212-854-5573\n",
      "212-851-7800\n",
      "212-854-2797\n",
      "212-854-5555\n",
      "212-854-1919\n",
      "212-854-2522\n",
      "212-854-2522\n",
      "212-854-2772\n",
      "866-627-3768\n",
      "askcuit@columbia.edu\n"
     ]
    }
   ],
   "source": [
    "#Print results\n",
    "if len(matches)>0:\n",
    "    pyperclip.copy('\\n'.join(matches))\n",
    "    print('\\n'.join(matches))\n",
    "else:\n",
    "    print(\"no phone numbers or email addresses were found\")"
   ]
  },
  {
   "cell_type": "code",
   "execution_count": null,
   "metadata": {},
   "outputs": [],
   "source": [
    "# I tried this on the following web page \n",
    "#http://ftp.columbia.edu/content/contact-us.html"
   ]
  }
 ],
 "metadata": {
  "kernelspec": {
   "display_name": "Python 3",
   "language": "python",
   "name": "python3"
  },
  "language_info": {
   "codemirror_mode": {
    "name": "ipython",
    "version": 3
   },
   "file_extension": ".py",
   "mimetype": "text/x-python",
   "name": "python",
   "nbconvert_exporter": "python",
   "pygments_lexer": "ipython3",
   "version": "3.7.3"
  }
 },
 "nbformat": 4,
 "nbformat_minor": 2
}
