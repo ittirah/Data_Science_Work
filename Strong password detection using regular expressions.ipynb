{
 "cells": [
  {
   "cell_type": "markdown",
   "metadata": {},
   "source": [
    "This a function to check if a password is strong or not using **regular expressions**.\n",
    "Criteria for strong password is:\n",
    "    - Atleast eight characters long \n",
    "    - Atleast one upper case character \n",
    "    - Atleast one lower case character \n",
    "    - Atleast one digit"
   ]
  },
  {
   "cell_type": "code",
   "execution_count": 105,
   "metadata": {},
   "outputs": [],
   "source": [
    "import re"
   ]
  },
  {
   "cell_type": "code",
   "execution_count": 120,
   "metadata": {},
   "outputs": [],
   "source": [
    "def passcheck():\n",
    "    print('Please enter your password')\n",
    "    password = input()\n",
    "    lengthcheck1 = re.compile(r'.{8,}')\n",
    "    mo1 = lengthcheck1.search(password)\n",
    "    lowercasecheck = re.compile(r'[a-z]+')\n",
    "    mo2 = lowercasecheck.search(password)\n",
    "    uppercasecheck  = re.compile(r'[A-Z]+')\n",
    "    mo3 = uppercasecheck.search(password)\n",
    "    numbercheck = re.compile(r'[0-9]+')\n",
    "    mo4 = numbercheck.search(password)\n",
    "    if (mo1== None) :\n",
    "        print('Password needs to have atleast eight characters')\n",
    "    if (mo2== None):\n",
    "        print('Password needs to have atleast 1 lowercase character')\n",
    "    if (mo3==None):\n",
    "        print('Password needs to have atleast 1 uppercase character')\n",
    "    if (mo4==None):\n",
    "        print('Password needs to have atleast 1 digit')\n",
    "    if mo1!= None and mo2 != None and mo3 != None and mo4 != None:\n",
    "        print('Password is strong')"
   ]
  },
  {
   "cell_type": "code",
   "execution_count": 110,
   "metadata": {},
   "outputs": [
    {
     "name": "stdout",
     "output_type": "stream",
     "text": [
      "Please enter your password\n",
      "Godzilla@12\n",
      "Password is strong\n"
     ]
    }
   ],
   "source": [
    "passcheck()"
   ]
  },
  {
   "cell_type": "code",
   "execution_count": 114,
   "metadata": {},
   "outputs": [
    {
     "name": "stdout",
     "output_type": "stream",
     "text": [
      "Please enter your password\n",
      "Abrahamkj\n",
      "Password needs to have atleast 1 digit\n"
     ]
    }
   ],
   "source": [
    "passcheck()"
   ]
  },
  {
   "cell_type": "code",
   "execution_count": 121,
   "metadata": {},
   "outputs": [
    {
     "name": "stdout",
     "output_type": "stream",
     "text": [
      "Please enter your password\n",
      "123456789\n",
      "Password needs to have atleast 1 lowercase character\n",
      "Password needs to have atleast 1 uppercase character\n"
     ]
    }
   ],
   "source": [
    "passcheck()"
   ]
  },
  {
   "cell_type": "code",
   "execution_count": 122,
   "metadata": {},
   "outputs": [
    {
     "name": "stdout",
     "output_type": "stream",
     "text": [
      "Please enter your password\n",
      "LIGHTHOUSE\n",
      "Password needs to have atleast 1 lowercase character\n",
      "Password needs to have atleast 1 digit\n"
     ]
    }
   ],
   "source": [
    "passcheck()"
   ]
  },
  {
   "cell_type": "code",
   "execution_count": null,
   "metadata": {},
   "outputs": [],
   "source": []
  }
 ],
 "metadata": {
  "kernelspec": {
   "display_name": "Python 3",
   "language": "python",
   "name": "python3"
  },
  "language_info": {
   "codemirror_mode": {
    "name": "ipython",
    "version": 3
   },
   "file_extension": ".py",
   "mimetype": "text/x-python",
   "name": "python",
   "nbconvert_exporter": "python",
   "pygments_lexer": "ipython3",
   "version": "3.7.3"
  }
 },
 "nbformat": 4,
 "nbformat_minor": 2
}
